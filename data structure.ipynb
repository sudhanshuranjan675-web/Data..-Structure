{
 "cells": [
  {
   "cell_type": "code",
   "execution_count": null,
   "id": "67138e43-2db6-442f-86cf-5d3725c6fea1",
   "metadata": {},
   "outputs": [],
   "source": [
    "Data Types and Structures Questions\n",
    "\n",
    "Q1. What are data structures, and why are they important?\n",
    "-> Data structures are ways of organizing and storing data so it can be accessed and modified efficiently.\n",
    "Importance: They improve performance, memory usage, and make problem-solving easier.\n",
    "\n",
    "\n",
    "Q2. Explain the difference between mutable and immutable data types with examples.\n",
    "->  Mutable: Can be changed after creation. Example: list, dict, set.\n",
    "    Immutable: Cannot be changed once created. Example: tuple, str, int.\n",
    "\n",
    "\n",
    "Q3. What are the main differences between lists and tuples in Python?\n",
    "\n",
    "->Lists are mutable, tuples are immutable.\n",
    "  Lists use [], tuples use ().\n",
    "  Tuples are faster and use less memory than lists.\n",
    "\n",
    "Q4. Describe how dictionaries store data.\n",
    "\n",
    "->Dictionaries store data as key-value pairs using a hash table internally. Keys must be unique and hashable, values can be of any type.\n",
    "\n",
    "Q5. Why might you use a set instead of a list in Python?\n",
    "\n",
    "->Sets store unique elements only.\n",
    "Faster membership checking (in) than lists.\n",
    "Useful for removing duplicates.\n",
    "\n",
    "\n",
    "Q6. What is a string in Python, and how is it different from a list?\n",
    "\n",
    "->A string is a sequence of characters (immutable).\n",
    " A list is a collection of elements (mutable, can hold mixed data types).\n",
    "\n",
    "Q7. How do tuples ensure data integrity in Python?\n",
    "\n",
    "Since tuples are immutable, data stored inside them cannot be changed accidentally, which ensures consistency.\n",
    "\n",
    "Q8. What is a hash table, and how does it relate to dictionaries in Python?\n",
    "\n",
    "\n",
    "A hash table is a data structure that maps keys to values using a hash function.\n",
    "\n",
    "Python dictionaries are implemented using hash tables.\n",
    "\n",
    "Q9. Can lists contain different data types in Python?\n",
    "\n",
    "Yes ✅. Example: [1, \"hello\", 3.5, True].\n",
    "\n",
    "Q10. Explain why strings are immutable in Python.\n",
    "    \n",
    "->Strings are immutable for:\n",
    "  Security (prevents accidental modification).\n",
    "  Performance (hashing, interning).\n",
    "  Easier memory management.\n",
    "\n",
    "Q11. What advantages do dictionaries offer over lists for certain tasks?\n",
    "\n",
    "-> Fast lookups using keys (O(1) time).\n",
    "   Better for mapping relationships (like storing student_id → student_name).\n",
    "   Lists require O(n) search time.\n",
    "\n",
    "Q12. Describe a scenario where using a tuple would be preferable over a list.\n",
    "    \n",
    "->When you want to store fixed data that should not change:\n",
    "  Example: Coordinates (x, y), days of the week, database keys.\n",
    "\n",
    "Q13. How do sets handle duplicate values in Python?\n",
    "    \n",
    "-> Sets automatically remove duplicates. Example:\n",
    "   set([1, 2, 2, 3]) → {1, 2, 3}\n",
    "\n",
    "\n",
    "Q14. How does the \"in\" keyword work differently for lists and dictionaries?\n",
    "\n",
    "->  For lists, it checks if a value is present.\n",
    "    For dictionaries, it checks if a key exists.\n",
    "\n",
    "Q15. Can you modify the elements of a tuple? Explain why or why not.\n",
    "    \n",
    "-> No ❌, tuples are immutable. Once created, elements cannot be added, removed, or modified.\n",
    "\n",
    "\n",
    "Q16. What is a nested dictionary, and give an example of its use case?\n",
    "    \n",
    "A dictionary inside another dictionary.\n",
    "Example (student database):\n",
    "\n",
    "students = {\n",
    "  1: {\"name\": \"Alice\", \"age\": 20},\n",
    "  2: {\"name\": \"Bob\", \"age\": 22}\n",
    "}\n",
    "\n",
    "Q17. Describe the time complexity of accessing elements in a dictionary.\n",
    "    \n",
    " ->On average: O(1) (constant time), because of hashing.\n",
    "   Worst case (rare collisions): O(n).\n",
    "\n",
    "Q18. In what situations are lists preferred over dictionaries?\n",
    "    \n",
    "-> When order matters.\n",
    "   When data does not require key-value mapping.\n",
    "   For sequential processing (e.g., processing student marks in order).\n",
    "\n",
    "Q19. Why are dictionaries considered unordered, and how does that affect data retrieval?\n",
    "    \n",
    " ->Before Python 3.7, dictionaries did not guarantee order.\n",
    "   Now (Python 3.7+), they preserve insertion order, but retrieval is still based on keys, not positions.\n",
    "\n",
    "\n",
    "Q20. Explain the difference between a list and a dictionary in terms of data retrieval.\n",
    "\n",
    "->List: Access by index → O(1), search by value → O(n).\n",
    "   Dictionary: Access by key → O(1).\n"
   ]
  },
  {
   "cell_type": "code",
   "execution_count": 1,
   "id": "425a65fa-11f4-4070-954b-4defb3ec65cc",
   "metadata": {},
   "outputs": [
    {
     "name": "stdout",
     "output_type": "stream",
     "text": [
      "sudhanshu ranjan\n"
     ]
    }
   ],
   "source": [
    "#Q1 Write a code to create a string with yourname and print it\n",
    "name= \"sudhanshu ranjan\"\n",
    "print(name)"
   ]
  },
  {
   "cell_type": "code",
   "execution_count": 2,
   "id": "574ba97d-5029-4de6-9970-ed0c9d9dcc1f",
   "metadata": {},
   "outputs": [
    {
     "name": "stdout",
     "output_type": "stream",
     "text": [
      "11\n"
     ]
    }
   ],
   "source": [
    "#Q2 Write a code to find the length of the string \"Hello World\"\n",
    "s=\"hello world\"\n",
    "print(len(s))"
   ]
  },
  {
   "cell_type": "code",
   "execution_count": 34,
   "id": "f35d6533-acdc-4480-a8f9-5710c59ef97d",
   "metadata": {},
   "outputs": [
    {
     "name": "stdout",
     "output_type": "stream",
     "text": [
      "pyt\n"
     ]
    }
   ],
   "source": [
    "#Q3 Write a code to slice the first 3 characters from the string \"Python Programming\"\n",
    "s=\"python programming\"\n",
    "print(s[:3])"
   ]
  },
  {
   "cell_type": "code",
   "execution_count": 4,
   "id": "c1a2ca0b-e78d-46c1-86b7-8d5947926c65",
   "metadata": {},
   "outputs": [
    {
     "name": "stdout",
     "output_type": "stream",
     "text": [
      "Hello World\n"
     ]
    }
   ],
   "source": [
    "#Q4 4. Write a code to concatenate the strings \"Hello\" and \"World\".\n",
    "\n",
    "s1 = \"Hello\"\n",
    "s2 = \"World\"\n",
    "print(s1 + \" \" + s2)"
   ]
  },
  {
   "cell_type": "code",
   "execution_count": 5,
   "id": "ad9b8f51-308c-46f5-bc92-25a9c8a34da5",
   "metadata": {},
   "outputs": [
    {
     "name": "stdout",
     "output_type": "stream",
     "text": [
      "I like orange\n"
     ]
    }
   ],
   "source": [
    "#Q5  Write a code to replace the word \"apple\" with \"orange\" in the string \"I like apple\".\n",
    "\n",
    "s = \"I like apple\"\n",
    "print(s.replace(\"apple\", \"orange\"))"
   ]
  },
  {
   "cell_type": "code",
   "execution_count": 6,
   "id": "43b98512-5e0f-42d1-ab4b-243224ac38ce",
   "metadata": {},
   "outputs": [
    {
     "name": "stdout",
     "output_type": "stream",
     "text": [
      "[1, 2, 3, 4, 5]\n"
     ]
    }
   ],
   "source": [
    "#Q6 Write a code to create a list with numbers 1 to 5 and print it.\n",
    "\n",
    "numbers = [1, 2, 3, 4, 5]\n",
    "print(numbers)"
   ]
  },
  {
   "cell_type": "code",
   "execution_count": 7,
   "id": "11865c0d-e9f3-4382-a33a-f7527b9b8d29",
   "metadata": {},
   "outputs": [
    {
     "name": "stdout",
     "output_type": "stream",
     "text": [
      "[1, 2, 3, 4, 10]\n"
     ]
    }
   ],
   "source": [
    "#Q7  Write a code to append the number 10 to the list [1, 2, 3, 4].\n",
    "\n",
    "lst = [1, 2, 3, 4]\n",
    "lst.append(10)\n",
    "print(lst)"
   ]
  },
  {
   "cell_type": "code",
   "execution_count": 8,
   "id": "7f2720c4-e737-45ea-ab1f-3a4277685503",
   "metadata": {},
   "outputs": [
    {
     "name": "stdout",
     "output_type": "stream",
     "text": [
      "[1, 2, 4, 5]\n"
     ]
    }
   ],
   "source": [
    "#Q8 Write a code to remove the number 3 from the list [1, 2, 3, 4, 5].\n",
    "\n",
    "lst = [1, 2, 3, 4, 5]\n",
    "lst.remove(3)\n",
    "print(lst)"
   ]
  },
  {
   "cell_type": "code",
   "execution_count": 9,
   "id": "2ac2c982-abe2-4ba5-9b7e-230d76cb2ca8",
   "metadata": {},
   "outputs": [
    {
     "name": "stdout",
     "output_type": "stream",
     "text": [
      "b\n"
     ]
    }
   ],
   "source": [
    "#Q9 Write a code to access the second element in the list ['a', 'b', 'c', 'd'].\n",
    "\n",
    "lst = ['a', 'b', 'c', 'd']\n",
    "print(lst[1])"
   ]
  },
  {
   "cell_type": "code",
   "execution_count": 10,
   "id": "b2e4435c-329b-43c5-a6ad-b9f1b9034cd4",
   "metadata": {},
   "outputs": [
    {
     "name": "stdout",
     "output_type": "stream",
     "text": [
      "[50, 40, 30, 20, 10]\n",
      "[10, 20, 30, 40, 50]\n"
     ]
    }
   ],
   "source": [
    "#Q10 Write a code to reverse the list [10, 20, 30, 40, 50].\n",
    "\n",
    "lst = [10, 20, 30, 40, 50]\n",
    "lst.reverse()\n",
    "print(lst)\n",
    "# OR\n",
    "print(lst[::-1])"
   ]
  },
  {
   "cell_type": "code",
   "execution_count": 11,
   "id": "46a9041c-31ac-40e5-a5c9-f2ac08f68472",
   "metadata": {},
   "outputs": [
    {
     "name": "stdout",
     "output_type": "stream",
     "text": [
      "(100, 200, 300)\n"
     ]
    }
   ],
   "source": [
    "#Q11 Write a code to create a tuple with the elements 100, 200, 300 and print it.\n",
    "\n",
    "t = (100, 200, 300)\n",
    "print(t)"
   ]
  },
  {
   "cell_type": "code",
   "execution_count": 12,
   "id": "b1c83ced-bd2b-4b30-b3f0-d8b9659f61a3",
   "metadata": {},
   "outputs": [
    {
     "name": "stdout",
     "output_type": "stream",
     "text": [
      "blue\n"
     ]
    }
   ],
   "source": [
    "#Q12  Write a code to access the second-to-last element of the tuple ('red', 'green', 'blue', 'yellow').\n",
    "\n",
    "t = ('red', 'green', 'blue', 'yellow')\n",
    "print(t[-2])"
   ]
  },
  {
   "cell_type": "code",
   "execution_count": 13,
   "id": "6f1bd1bc-8f09-49a1-abdc-ce4803db5392",
   "metadata": {},
   "outputs": [
    {
     "name": "stdout",
     "output_type": "stream",
     "text": [
      "5\n"
     ]
    }
   ],
   "source": [
    "#Q13 Write a code to find the minimum number in the tuple (10, 20, 5, 15).\n",
    "\n",
    "t = (10, 20, 5, 15)\n",
    "print(min(t))"
   ]
  },
  {
   "cell_type": "code",
   "execution_count": 14,
   "id": "2888ded4-630c-45f9-b58c-6243412d730e",
   "metadata": {},
   "outputs": [
    {
     "name": "stdout",
     "output_type": "stream",
     "text": [
      "1\n"
     ]
    }
   ],
   "source": [
    "#Q14. Write a code to find the index of the element 'cat' in the tuple ('dog', 'cat', 'rabbit').\n",
    "\n",
    "t = ('dog', 'cat', 'rabbit')\n",
    "print(t.index('cat'))"
   ]
  },
  {
   "cell_type": "code",
   "execution_count": 15,
   "id": "8cc068a8-b5b2-4c90-9346-61407df73ce1",
   "metadata": {},
   "outputs": [
    {
     "name": "stdout",
     "output_type": "stream",
     "text": [
      "True\n"
     ]
    }
   ],
   "source": [
    "#Q15. Write a code to create a tuple containing three different fruits and check if 'kiwi' is in it.\n",
    "\n",
    "fruits = ('apple', 'banana', 'kiwi')\n",
    "print('kiwi' in fruits)"
   ]
  },
  {
   "cell_type": "code",
   "execution_count": 16,
   "id": "c46cf75d-6869-4c52-806f-a9d3d053fbce",
   "metadata": {},
   "outputs": [
    {
     "name": "stdout",
     "output_type": "stream",
     "text": [
      "{'c', 'b', 'a'}\n"
     ]
    }
   ],
   "source": [
    "#Q16. Write a code to create a set with the elements 'a', 'b', 'c' and print it.\n",
    "\n",
    "s = {'a', 'b', 'c'}\n",
    "print(s)"
   ]
  },
  {
   "cell_type": "code",
   "execution_count": 17,
   "id": "43649a06-6bb9-4a2d-bcab-7b6c50814d46",
   "metadata": {},
   "outputs": [
    {
     "name": "stdout",
     "output_type": "stream",
     "text": [
      "set()\n"
     ]
    }
   ],
   "source": [
    "#Q17. Write a code to clear all elements from the set {1, 2, 3, 4, 5}.\n",
    "\n",
    "s = {1, 2, 3, 4, 5}\n",
    "s.clear()\n",
    "print(s) "
   ]
  },
  {
   "cell_type": "code",
   "execution_count": 18,
   "id": "11c67088-e393-45a0-90b0-d28880d5010a",
   "metadata": {},
   "outputs": [
    {
     "name": "stdout",
     "output_type": "stream",
     "text": [
      "{1, 2, 3}\n"
     ]
    }
   ],
   "source": [
    "#Q18. Write a code to remove the element 4 from the set {1, 2, 3, 4}.\n",
    "\n",
    "s = {1, 2, 3, 4}\n",
    "s.remove(4)\n",
    "print(s)"
   ]
  },
  {
   "cell_type": "code",
   "execution_count": 19,
   "id": "b7ad688b-5c21-4a08-a1da-9c38737dcb8c",
   "metadata": {},
   "outputs": [
    {
     "name": "stdout",
     "output_type": "stream",
     "text": [
      "{1, 2, 3, 4, 5}\n"
     ]
    }
   ],
   "source": [
    "#Q19. Write a code to find the union of two sets {1, 2, 3} and {3, 4, 5}.\n",
    "\n",
    "s1 = {1, 2, 3}\n",
    "s2 = {3, 4, 5}\n",
    "print(s1.union(s2))"
   ]
  },
  {
   "cell_type": "code",
   "execution_count": 20,
   "id": "01cbb2c2-0240-48fe-a81b-2ef0c0e2d9a2",
   "metadata": {},
   "outputs": [
    {
     "name": "stdout",
     "output_type": "stream",
     "text": [
      "{2}\n"
     ]
    }
   ],
   "source": [
    "#Q20. Write a code to find the intersection of two sets {1, 2, 3} and {2, 4}.\n",
    "\n",
    "s1 = {1, 2, 3}\n",
    "s2 = {2, 4}\n",
    "print(s1.intersection(s2))"
   ]
  },
  {
   "cell_type": "code",
   "execution_count": 21,
   "id": "89c4e84d-4aba-4bd1-8675-81472af16135",
   "metadata": {},
   "outputs": [
    {
     "name": "stdout",
     "output_type": "stream",
     "text": [
      "{'name': 'Alice', 'age': 25, 'city': 'Paris'}\n"
     ]
    }
   ],
   "source": [
    "#Q21. Write a code to create a dictionary with the keys 'name', 'age', and 'city', and print it.\n",
    "\n",
    "person = {\"name\": \"Alice\", \"age\": 25, \"city\": \"Paris\"}\n",
    "print(person)"
   ]
  },
  {
   "cell_type": "code",
   "execution_count": 22,
   "id": "10753afa-1dc0-4f59-85c6-3105ec29eb55",
   "metadata": {},
   "outputs": [
    {
     "name": "stdout",
     "output_type": "stream",
     "text": [
      "{'name': 'John', 'age': 25, 'country': 'USA'}\n"
     ]
    }
   ],
   "source": [
    "#Q22. Write a code to add a new key-value pair 'country': 'USA' to the dictionary {'name': 'John', 'age': 25}.\n",
    "\n",
    "person = {\"name\": \"John\", \"age\": 25}\n",
    "person[\"country\"] = \"USA\"\n",
    "print(person)"
   ]
  },
  {
   "cell_type": "code",
   "execution_count": 23,
   "id": "e8527f82-436c-4612-a544-e035e21b1da5",
   "metadata": {},
   "outputs": [
    {
     "name": "stdout",
     "output_type": "stream",
     "text": [
      "Alice\n"
     ]
    }
   ],
   "source": [
    "#Q23. Write a code to access the value associated with the key 'name' in the dictionary {'name': 'Alice', 'age': 30}.\n",
    "\n",
    "person = {\"name\": \"Alice\", \"age\": 30}\n",
    "print(person[\"name\"])   # Output: Alice"
   ]
  },
  {
   "cell_type": "code",
   "execution_count": 24,
   "id": "af07d74a-27ee-4c0d-bd98-a8761f979cb2",
   "metadata": {},
   "outputs": [
    {
     "name": "stdout",
     "output_type": "stream",
     "text": [
      "{'name': 'Bob', 'city': 'New York'}\n"
     ]
    }
   ],
   "source": [
    "#Q24. Write a code to remove the key 'age' from the dictionary {'name': 'Bob', 'age': 22, 'city': 'New York'}.\n",
    "\n",
    "person = {\"name\": \"Bob\", \"age\": 22, \"city\": \"New York\"}\n",
    "person.pop(\"age\")\n",
    "print(person)"
   ]
  },
  {
   "cell_type": "code",
   "execution_count": 25,
   "id": "4c41de23-debe-46e0-b13c-ba60f014387e",
   "metadata": {},
   "outputs": [
    {
     "name": "stdout",
     "output_type": "stream",
     "text": [
      "True\n"
     ]
    }
   ],
   "source": [
    "#Q25. Write a code to check if the key 'city' exists in the dictionary {'name': 'Alice', 'city': 'Paris'}.\n",
    "\n",
    "person = {\"name\": \"Alice\", \"city\": \"Paris\"}\n",
    "print(\"city\" in person)"
   ]
  },
  {
   "cell_type": "code",
   "execution_count": 26,
   "id": "a2d77331-3728-4cca-81e6-74aad60b9953",
   "metadata": {},
   "outputs": [
    {
     "name": "stdout",
     "output_type": "stream",
     "text": [
      "[1, 2, 3]\n",
      "(4, 5, 6)\n",
      "{'a': 1, 'b': 2}\n"
     ]
    }
   ],
   "source": [
    "#Q26. Write a code to create a list, a tuple, and a dictionary and print them all.\n",
    "\n",
    "lst = [1, 2, 3]\n",
    "tup = (4, 5, 6)\n",
    "dct = {\"a\": 1, \"b\": 2}\n",
    "print(lst)\n",
    "print(tup)\n",
    "print(dct)"
   ]
  },
  {
   "cell_type": "code",
   "execution_count": 27,
   "id": "dc118d21-5d05-43db-824d-49de1b4ea26f",
   "metadata": {},
   "outputs": [
    {
     "name": "stdout",
     "output_type": "stream",
     "text": [
      "[24, 61, 97, 99, 100]\n"
     ]
    }
   ],
   "source": [
    "#Q27. Write a code to create a list of 5 random numbers between 1 and 100, sort it in ascending order, and print the result.\n",
    "\n",
    "import random\n",
    "lst = random.sample(range(1, 101), 5)\n",
    "lst.sort()\n",
    "print(lst)"
   ]
  },
  {
   "cell_type": "code",
   "execution_count": 28,
   "id": "b36aa400-b28b-4bb8-80a3-8b24709b8227",
   "metadata": {},
   "outputs": [
    {
     "name": "stdout",
     "output_type": "stream",
     "text": [
      "date\n"
     ]
    }
   ],
   "source": [
    "#Q28. Write a code to create a list with strings and print the element at the third index.\n",
    "\n",
    "lst = [\"apple\", \"banana\", \"cherry\", \"date\", \"kiwi\"]\n",
    "print(lst[3]) "
   ]
  },
  {
   "cell_type": "code",
   "execution_count": 33,
   "id": "4706d163-081c-48da-ac78-90b917f03d12",
   "metadata": {},
   "outputs": [
    {
     "name": "stdout",
     "output_type": "stream",
     "text": [
      "{'a': 1, 'b': 2, 'c': 3, 'd': 4}\n"
     ]
    }
   ],
   "source": [
    "#Q29. Write a code to combine two dictionaries into one and print the result.\n",
    "\n",
    "d1 = {\"a\": 1, \"b\": 2}\n",
    "d2 = {\"c\": 3, \"d\": 4}\n",
    "combined = {**d1,**d2}\n",
    "print(combined)"
   ]
  },
  {
   "cell_type": "code",
   "execution_count": 30,
   "id": "00078ef6-8563-4866-b729-16de739ea65f",
   "metadata": {},
   "outputs": [
    {
     "name": "stdout",
     "output_type": "stream",
     "text": [
      "{'apple', 'banana', 'cherry'}\n"
     ]
    }
   ],
   "source": [
    "#Q30. Write a code to convert a list of strings into a set.\n",
    "\n",
    "lst = [\"apple\", \"banana\", \"cherry\", \"apple\"]\n",
    "s = set(lst)\n",
    "print(s)"
   ]
  },
  {
   "cell_type": "code",
   "execution_count": null,
   "id": "bffc604e-f658-4f88-b22a-73753ba142b1",
   "metadata": {},
   "outputs": [],
   "source": []
  }
 ],
 "metadata": {
  "kernelspec": {
   "display_name": "Python 3 (ipykernel)",
   "language": "python",
   "name": "python3"
  },
  "language_info": {
   "codemirror_mode": {
    "name": "ipython",
    "version": 3
   },
   "file_extension": ".py",
   "mimetype": "text/x-python",
   "name": "python",
   "nbconvert_exporter": "python",
   "pygments_lexer": "ipython3",
   "version": "3.13.5"
  }
 },
 "nbformat": 4,
 "nbformat_minor": 5
}
